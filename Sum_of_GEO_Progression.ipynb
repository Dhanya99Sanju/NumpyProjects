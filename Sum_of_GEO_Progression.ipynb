{
 "cells": [
  {
   "cell_type": "code",
   "execution_count": 10,
   "metadata": {},
   "outputs": [],
   "source": [
    "import numpy as np"
   ]
  },
  {
   "cell_type": "code",
   "execution_count": 11,
   "metadata": {},
   "outputs": [],
   "source": [
    "def sum_geo_progression(a,r,n):\n",
    "    sum_formula = a * (1- r**n)/(1-r)\n",
    "    return sum_formula"
   ]
  },
  {
   "cell_type": "code",
   "execution_count": 12,
   "metadata": {},
   "outputs": [],
   "source": [
    "def sum_loop_geo_progression(a,r,n):\n",
    "    sum_loop = 1\n",
    "    for i in range(n) :\n",
    "      sum_loop = sum_loop * r\n",
    "    sum_return = a * (1-sum_loop)/(1-r)\n",
    "    return sum_return    "
   ]
  },
  {
   "cell_type": "code",
   "execution_count": 13,
   "metadata": {},
   "outputs": [
    {
     "name": "stdout",
     "output_type": "stream",
     "text": [
      "3100.0\n"
     ]
    }
   ],
   "source": [
    "sum_loop_return = sum_loop_geo_progression(100,2,5)\n",
    "print(sum_loop_return)"
   ]
  },
  {
   "cell_type": "code",
   "execution_count": 4,
   "metadata": {},
   "outputs": [
    {
     "name": "stdout",
     "output_type": "stream",
     "text": [
      "3100.0\n"
     ]
    }
   ],
   "source": [
    "sum_formula = sum_geo_progression(100,2,5)\n",
    "print(sum_formula)\n"
   ]
  }
 ],
 "metadata": {
  "kernelspec": {
   "display_name": "Python 3",
   "language": "python",
   "name": "python3"
  },
  "language_info": {
   "codemirror_mode": {
    "name": "ipython",
    "version": 3
   },
   "file_extension": ".py",
   "mimetype": "text/x-python",
   "name": "python",
   "nbconvert_exporter": "python",
   "pygments_lexer": "ipython3",
   "version": "3.12.0"
  }
 },
 "nbformat": 4,
 "nbformat_minor": 2
}
