{
 "cells": [
  {
   "cell_type": "code",
   "execution_count": 1,
   "metadata": {},
   "outputs": [],
   "source": [
    "import numpy as np"
   ]
  },
  {
   "cell_type": "code",
   "execution_count": 3,
   "metadata": {},
   "outputs": [
    {
     "name": "stdout",
     "output_type": "stream",
     "text": [
      "Addition vectors  : [ 78 132  90]\n"
     ]
    }
   ],
   "source": [
    "#vector Addition\n",
    "a = np.array([23,45,56])\n",
    "b = np.array([55,87,34])\n",
    "c = a + b\n",
    "print(\"Addition vectors  :\" , c)"
   ]
  },
  {
   "cell_type": "code",
   "execution_count": 4,
   "metadata": {},
   "outputs": [
    {
     "name": "stdout",
     "output_type": "stream",
     "text": [
      "Substration vectors  : [-32 -42  22]\n"
     ]
    }
   ],
   "source": [
    "# vector substraction\n",
    "a = np.array([23,45,56])\n",
    "b = np.array([55,87,34])\n",
    "c = a - b\n",
    "print(\"Substration vectors  :\" , c)\n"
   ]
  },
  {
   "cell_type": "code",
   "execution_count": 5,
   "metadata": {},
   "outputs": [
    {
     "name": "stdout",
     "output_type": "stream",
     "text": [
      "scalar multiplication [ 92 180 224]\n"
     ]
    }
   ],
   "source": [
    "#scalar multiplication\n",
    "a = np.array([23,45,56])\n",
    "b = 4\n",
    "c = a*b\n",
    "print(\"scalar multiplication\",c)"
   ]
  },
  {
   "cell_type": "code",
   "execution_count": 8,
   "metadata": {},
   "outputs": [
    {
     "name": "stdout",
     "output_type": "stream",
     "text": [
      "Dot Product 7172\n",
      "32\n"
     ]
    }
   ],
   "source": [
    "#dot product of vectors\n",
    "a = np.array([22,56,34])\n",
    "b = np.array([42,63,80])\n",
    "f = np.dot(a,b)\n",
    "print(\"Dot Product\" , f)\n",
    "a1 = np.array([1, 2, 3])\n",
    "b1 = np.array([4, 5, 6])\n",
    "c1 = np.dot(a1, b1)\n",
    "print(c1)\n"
   ]
  },
  {
   "cell_type": "code",
   "execution_count": 9,
   "metadata": {},
   "outputs": [
    {
     "name": "stdout",
     "output_type": "stream",
     "text": [
      "Addition [[ 6  8]\n",
      " [10 12]]\n",
      "Substration [[-4 -4]\n",
      " [-4 -4]]\n"
     ]
    }
   ],
   "source": [
    "#Operations on matrices\n",
    "a = np.array([[1,2],[3,4]])\n",
    "b = np.array([[5,6],[7,8]])\n",
    "s = a + b\n",
    "d = a - b\n",
    "print(\"Addition\",s)\n",
    "print(\"Substration\",d)\n",
    "\n"
   ]
  },
  {
   "cell_type": "code",
   "execution_count": 11,
   "metadata": {},
   "outputs": [
    {
     "name": "stdout",
     "output_type": "stream",
     "text": [
      "matrix multiplication [[ 58  64]\n",
      " [139 154]]\n"
     ]
    }
   ],
   "source": [
    "#matrics multiplication\n",
    "a = np.array([[1,2,3],[4,5,6]])\n",
    "b = np.array([[7,8],[9,10],[11,12]])\n",
    "c = np.dot(a,b)\n",
    "print(\"matrix multiplication\",c)\n"
   ]
  }
 ],
 "metadata": {
  "kernelspec": {
   "display_name": "Python 3",
   "language": "python",
   "name": "python3"
  },
  "language_info": {
   "codemirror_mode": {
    "name": "ipython",
    "version": 3
   },
   "file_extension": ".py",
   "mimetype": "text/x-python",
   "name": "python",
   "nbconvert_exporter": "python",
   "pygments_lexer": "ipython3",
   "version": "3.12.0"
  }
 },
 "nbformat": 4,
 "nbformat_minor": 2
}
